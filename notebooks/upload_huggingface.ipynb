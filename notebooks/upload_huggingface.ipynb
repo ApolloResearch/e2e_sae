{
 "cells": [
  {
   "cell_type": "code",
   "execution_count": null,
   "id": "76d78cf6",
   "metadata": {},
   "outputs": [],
   "source": [
    "from huggingface_hub import login"
   ]
  },
  {
   "cell_type": "markdown",
   "id": "0c9187f9",
   "metadata": {},
   "source": [
    "# Saving Models\n",
    "Be careful not to overwrite!\n"
   ]
  },
  {
   "cell_type": "code",
   "execution_count": null,
   "id": "97010523",
   "metadata": {},
   "outputs": [],
   "source": [
    "model_repo_name = \"Benw8888/lp_saes\"\n",
    "model_id = \"Benw8888/lp_saes\"\n",
    "mode = \"bias\"\n",
    "chkpt = 0\n",
    "local_file = f\"/root/sparsify/notebooks/trained_models/sae_l0.1_0.1.pt\"\n",
    "file_in_repo = (\n",
    "    f\"sft_sae_70m.pt\"  # \"sft_sae_6b.pt\" \"transfer_sft_ppo_6b.pt\" f\"transfer_sft_base_6b_{mode}.pt\"\n",
    ")\n",
    "# each checkpoint was 8mil tokens, so chkpt 6 was 56mil tokens (0 indexed)\n",
    "from huggingface_hub import HfApi\n",
    "\n",
    "api = HfApi()\n",
    "api.upload_file(\n",
    "    path_or_fileobj=local_file,\n",
    "    path_in_repo=file_in_repo,\n",
    "    repo_id=model_id,\n",
    "    repo_type=\"model\",\n",
    ")"
   ]
  },
  {
   "cell_type": "code",
   "execution_count": null,
   "id": "374006d2",
   "metadata": {},
   "outputs": [],
   "source": [
    "from huggingface_hub import HfApi\n",
    "\n",
    "l1_alphas = [\n",
    "    1e-6,\n",
    "    3e-6,\n",
    "    1e-5,\n",
    "    3e-5,\n",
    "    1e-4,\n",
    "    3e-4,\n",
    "    1e-3,\n",
    "    3e-3,\n",
    "    1e-2,\n",
    "    3e-2,\n",
    "    1e-1,\n",
    "    3e-1,\n",
    "    1,\n",
    "    3,\n",
    "]\n",
    "ps = [0.1, 0.2, 0.3, 0.4, 0.5, 0.6, 0.7, 0.8, 0.9, 1, 1.1]\n",
    "\n",
    "model_repo_name = \"Benw8888/lp_saes\"\n",
    "model_id = \"Benw8888/lp_saes\"\n",
    "\n",
    "folder = \"toy_saes\"\n",
    "api = HfApi()\n",
    "api.upload_folder(\n",
    "    folder_path=\"/root/sparsify/trained_models/toy_saes\",  # {folder}\",\n",
    "    path_in_repo=folder,\n",
    "    repo_id=model_id,\n",
    "    repo_type=\"model\",\n",
    ")\n"
   ]
  },
  {
   "cell_type": "markdown",
   "id": "91a03886",
   "metadata": {},
   "source": [
    "# Loading Models\n",
    "Downloading Files\n"
   ]
  },
  {
   "cell_type": "code",
   "execution_count": null,
   "id": "8f5f47d0",
   "metadata": {},
   "outputs": [],
   "source": [
    "model_repo_name = \"Benw8888/pythia-6.9b-sae\"\n",
    "model_id = \"Benw8888/pythia-6.9b-sae\"\n",
    "modes = [\"scale\", \"rotation\", \"bias\", \"free\"]\n",
    "huggingface_model_names = []\n",
    "# huggingface_model_names += [\"rm_sae_gptj.pt\", \"ppo_sae_6b.pt\"] + [f\"transfer_rm_ppo_6b_{mode}.pt\" for mode in modes]\n",
    "# huggingface_model_names += [\"base_sae_6b.pt\", \"sft_sae_6b.pt\"] + [f\"transfer_base_sft_6b_{mode}.pt\" for mode in modes]\n",
    "# huggingface_model_names += [f\"transfer_sft_base_6b_{mode}_6.pt\" for mode in modes]\n",
    "# huggingface_model_names += [f\"transfer_base_sft_6b_{mode}_6.pt\" for mode in modes]\n",
    "# huggingface_model_names += [f\"{model}_dead_features.pt\" for model in [\"base\",\"sft\",\"rm\",\"ppo\"]]\n",
    "huggingface_model_names += [\"base_sae_70m.pt\", \"sft_sae_70m.pt\"]\n",
    "huggingface_model_names += [f\"transfer_base_sft_70m_{mode}.pt\" for mode in modes]\n",
    "huggingface_model_names += [f\"transfer_sft_base_70m_{mode}.pt\" for mode in modes]\n",
    "\n",
    "\n",
    "# huggingface_model_names = [\"base_sae_6b.pt\"]\n",
    "from huggingface_hub import hf_hub_download\n",
    "import torch\n",
    "# model_id = \"Elriggs/pythia-70m-deduped-layer-2\"\n",
    "\n",
    "for hf_name in huggingface_model_names:\n",
    "    ae_download_location = hf_hub_download(repo_id=model_id, filename=hf_name)\n",
    "    downloaded_autoencoder = torch.load(ae_download_location)\n",
    "\n",
    "    import os\n",
    "\n",
    "    if not os.path.exists(\"trained_models\"):\n",
    "        os.makedirs(\"trained_models\")\n",
    "    # Save model\n",
    "    torch.save(downloaded_autoencoder, f\"trained_models/{hf_name}\")"
   ]
  },
  {
   "cell_type": "markdown",
   "id": "3aaa37db",
   "metadata": {},
   "source": [
    "Downloading From Folders\n"
   ]
  },
  {
   "cell_type": "code",
   "execution_count": null,
   "id": "891b03b1",
   "metadata": {},
   "outputs": [],
   "source": [
    "model_repo_name = \"Benw8888/pythia-6.9b-sae\"\n",
    "model_id = \"Benw8888/pythia-6.9b-sae\"\n",
    "# modes = [\"scale\", \"rotation\", \"bias\", \"free\"]\n",
    "huggingface_folder_names = []\n",
    "huggingface_folder_names += [\n",
    "    \"base_frequency_70m\",\n",
    "    \"base_dead_features_70m\",\n",
    "    \"base_sae_70m\",\n",
    "    \"base_retrain_70m\",\n",
    "]  # , \"transfer_base_sft_70m\"] \"base_autoTED_70m\"\n",
    "layers = [0, 1, 2, 3, 4, 5]\n",
    "l1s = [f\"{l1_alpha}\" for l1_alpha in [1e-3, 2e-3, 4e-3, 8e-3]]\n",
    "\n",
    "from huggingface_hub import hf_hub_download\n",
    "import torch\n",
    "import os\n",
    "# model_id = \"Elriggs/pythia-70m-deduped-layer-2\"\n",
    "\n",
    "for folder in huggingface_folder_names:\n",
    "    if not os.path.exists(\"trained_models\"):\n",
    "        os.makedirs(\"trained_models\")\n",
    "    if not os.path.exists(f\"trained_models/{folder}\"):\n",
    "        os.makedirs(f\"trained_models/{folder}\")\n",
    "    for layer in layers:\n",
    "        for l1 in l1s:\n",
    "            file_name = f\"{folder}_{layer}_{l1}.pt\"\n",
    "            if folder == \"base_retrain_70m\":\n",
    "                file_name = f\"base_autoTED_70m_scale_{layer}_{l1}.pt\"\n",
    "            if folder[:8] == \"transfer\":\n",
    "                file_name = f\"{folder}_free_{layer}_{l1}.pt\"\n",
    "            hf_name = f\"{folder}/{file_name}\"\n",
    "            ae_download_location = hf_hub_download(repo_id=model_id, filename=hf_name)\n",
    "            downloaded_autoencoder = torch.load(ae_download_location)\n",
    "            torch.save(downloaded_autoencoder, f\"trained_models/{folder}/{file_name}\")"
   ]
  },
  {
   "cell_type": "markdown",
   "id": "b2b49909",
   "metadata": {},
   "source": [
    "Downloading reward model stuff??"
   ]
  },
  {
   "cell_type": "code",
   "execution_count": null,
   "id": "79377a64",
   "metadata": {},
   "outputs": [],
   "source": [
    "# save reward model\n",
    "\n",
    "from huggingface_hub import hf_hub_download\n",
    "import torch\n",
    "\n",
    "ae_download_location = hf_hub_download(repo_id=\"Dahoas/gptj-rm-static\", filename=\"hf_ckpt.pt\")\n",
    "downloaded_rm = torch.load(ae_download_location)\n",
    "\n",
    "import os\n",
    "\n",
    "if not os.path.exists(\"llms\"):\n",
    "    os.makedirs(\"llms\")\n",
    "# Save model\n",
    "torch.save(downloaded_rm, f\"llms/gptj-rm-static.pt\")\n",
    "downloaded_rm"
   ]
  }
 ],
 "metadata": {
  "kernelspec": {
   "display_name": "lee-env",
   "language": "python",
   "name": "python3"
  },
  "language_info": {
   "codemirror_mode": {
    "name": "ipython",
    "version": 3
   },
   "file_extension": ".py",
   "mimetype": "text/x-python",
   "name": "python",
   "nbconvert_exporter": "python",
   "pygments_lexer": "ipython3",
   "version": "3.11.7"
  }
 },
 "nbformat": 4,
 "nbformat_minor": 5
}
