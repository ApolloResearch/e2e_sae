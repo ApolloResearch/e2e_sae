{
 "cells": [
  {
   "cell_type": "code",
   "execution_count": 4,
   "id": "44b241db",
   "metadata": {},
   "outputs": [],
   "source": [
    "import json\n",
    "from datetime import datetime\n",
    "from pathlib import Path\n",
    "from typing import List, Optional\n",
    "\n",
    "import fire\n",
    "import torch\n",
    "import wandb\n",
    "import yaml\n",
    "from pydantic import BaseModel\n",
    "from torch import nn\n",
    "from torch.utils.data import DataLoader\n",
    "from torchvision import datasets, transforms\n",
    "from tqdm import tqdm\n",
    "\n",
    "from sparsify.log import logger\n",
    "from sparsify.models import MLP\n",
    "from sparsify.models.mlp import MLPMod\n",
    "from sparsify.utils import save_model\n",
    "\n",
    "\n",
    "class ModelConfig(BaseModel):\n",
    "    hidden_sizes: Optional[List[int]]\n",
    "\n",
    "\n",
    "class TrainConfig(BaseModel):\n",
    "    learning_rate: float\n",
    "    batch_size: int\n",
    "    epochs: int\n",
    "    save_dir: Optional[Path]\n",
    "    save_every_n_epochs: Optional[int]\n",
    "\n",
    "\n",
    "class WandbConfig(BaseModel):\n",
    "    project: str\n",
    "    entity: str\n",
    "\n",
    "\n",
    "class Config(BaseModel):\n",
    "    seed: int\n",
    "    model: ModelConfig\n",
    "    train: TrainConfig\n",
    "    wandb: Optional[WandbConfig]\n",
    "\n",
    "\n",
    "def load_config(config_path: Path) -> Config:\n",
    "    \"\"\"Load the config from a YAML file into a Pydantic model.\"\"\"\n",
    "    assert config_path.suffix == \".yaml\", f\"Config file {config_path} must be a YAML file.\"\n",
    "    assert Path(config_path).exists(), f\"Config file {config_path} does not exist.\"\n",
    "    with open(config_path, \"r\") as f:\n",
    "        config_dict = yaml.safe_load(f)\n",
    "    config = Config(**config_dict)\n",
    "    return config\n",
    "\n",
    "\n",
    "def train(config: Config) -> None:\n",
    "    \"\"\"Train the MLP on MNIST.\n",
    "\n",
    "    If config.wandb is not None, log the results to Weights & Biases.\n",
    "    \"\"\"\n",
    "    torch.manual_seed(config.seed)\n",
    "    device = \"cuda\" if torch.cuda.is_available() else \"cpu\"\n",
    "    logger.info(\"Using device: %s\", device)\n",
    "\n",
    "    if not config.train.save_dir:\n",
    "        config.train.save_dir = Path(Path.cwd()).parent.parent / \".checkpoints\" / \"mnist\"\n",
    "\n",
    "    # Load the MNIST dataset\n",
    "    transform = transforms.ToTensor()\n",
    "    train_data = datasets.MNIST(\n",
    "        root=Path(Path.cwd()).parent.parent / \".data\", train=True, download=True, transform=transform\n",
    "    )\n",
    "    train_loader = DataLoader(train_data, batch_size=config.train.batch_size, shuffle=True)\n",
    "\n",
    "    # Initialize the MLP model\n",
    "    model = MLP(config.model.hidden_sizes, input_size=784, output_size=10)\n",
    "    model = model.to(device)\n",
    "\n",
    "    # Define the loss and optimizer\n",
    "    criterion = nn.CrossEntropyLoss()\n",
    "    optimizer = torch.optim.Adam(model.parameters(), lr=config.train.learning_rate)\n",
    "\n",
    "    if config.wandb:\n",
    "        run_name = f\"lr-{config.train.learning_rate}_bs-{config.train.batch_size}\"\n",
    "        wandb.init(\n",
    "            name=run_name,\n",
    "            project=config.wandb.project,\n",
    "            entity=config.wandb.entity,\n",
    "            config=config.model_dump(),\n",
    "        )\n",
    "\n",
    "    timestamp = datetime.now().strftime(\"%Y-%m-%d_%H-%M-%S\")\n",
    "    save_dir = config.train.save_dir / f\"{run_name}_{timestamp}\"\n",
    "\n",
    "    samples = 0\n",
    "    # Training loop\n",
    "    for epoch in tqdm(range(config.train.epochs), total=config.train.epochs, desc=\"Epochs\"):\n",
    "        for i, (images, labels) in enumerate(train_loader):\n",
    "            images, labels = images.to(device), labels.to(device)\n",
    "\n",
    "            samples += images.shape[0]\n",
    "            # Flatten the images\n",
    "            images = images.view(images.shape[0], -1)\n",
    "\n",
    "            outputs = model(images)\n",
    "            loss = criterion(outputs, labels)\n",
    "\n",
    "            # Calculate accuracy\n",
    "            _, argmax = torch.max(outputs, 1)\n",
    "            accuracy = (labels == argmax.squeeze()).float().mean()\n",
    "\n",
    "            optimizer.zero_grad()\n",
    "            loss.backward()\n",
    "            optimizer.step()\n",
    "\n",
    "            if (i + 1) % min(config.train.epochs // 10, 100) == 0:\n",
    "                logger.info(\n",
    "                    \"Epoch [%d/%d], Step [%d/%d], Loss: %f, Accuracy: %f\",\n",
    "                    epoch + 1,\n",
    "                    config.train.epochs,\n",
    "                    i + 1,\n",
    "                    len(train_loader),\n",
    "                    loss.item(),\n",
    "                    accuracy.item(),\n",
    "                )\n",
    "\n",
    "                if config.wandb:\n",
    "                    wandb.log({\"train/loss\": loss.item(), \"train/samples\": samples}, step=samples)\n",
    "\n",
    "        if config.train.save_every_n_epochs and (epoch + 1) % config.train.save_every_n_epochs == 0:\n",
    "            save_model(json.loads(config.model_dump_json()), save_dir, model, epoch)\n",
    "\n",
    "    if not (save_dir / f\"model_epoch_{epoch + 1}.pt\").exists():\n",
    "        save_model(json.loads(config.model_dump_json()), save_dir, model, epoch)\n",
    "\n",
    "\n",
    "def main(config_path_str: str) -> None:\n",
    "    config_path = Path(config_path_str)\n",
    "    config = load_config(config_path)\n",
    "    train(config)"
   ]
  },
  {
   "cell_type": "code",
   "execution_count": 11,
   "id": "76d78cf6",
   "metadata": {},
   "outputs": [
    {
     "name": "stderr",
     "output_type": "stream",
     "text": [
      "2024-01-03 20:30:59 - INFO - Using device: cuda\n"
     ]
    }
   ],
   "source": [
    "config_path = Path(\"../configs/train_mnist.yaml\")\n",
    "config = load_config(config_path)\n",
    "torch.manual_seed(config.seed)\n",
    "device = \"cuda\" if torch.cuda.is_available() else \"cpu\"\n",
    "logger.info(\"Using device: %s\", device)\n",
    "\n",
    "if not config.train.save_dir:\n",
    "    config.train.save_dir = Path(Path.cwd()).parent.parent / \".checkpoints\" / \"mnist\"\n",
    "\n",
    "# Load the MNIST dataset\n",
    "transform = transforms.ToTensor()\n",
    "train_data = datasets.MNIST(\n",
    "    root=Path(Path.cwd()).parent.parent / \".data\", train=True, download=True, transform=transform\n",
    ")\n",
    "train_loader = DataLoader(train_data, batch_size=config.train.batch_size, shuffle=True)\n",
    "\n",
    "# Initialize the MLP model\n",
    "model = MLP(config.model.hidden_sizes, input_size=784, output_size=10)\n",
    "model = model.to(device)\n",
    "\n",
    "model_mod = MLPMod(config.model.hidden_sizes, input_size=784, output_size=10)\n",
    "model_mod = torch.load(\"/mnt/ssd-apollo/lee/sparsify/models/lr-0.001_bs-4096_2024-01-03_16-05-12/model_epoch_100.pt\")\n"
   ]
  },
  {
   "cell_type": "code",
   "execution_count": 12,
   "id": "5e57d779",
   "metadata": {},
   "outputs": [
    {
     "data": {
      "text/plain": [
       "collections.OrderedDict"
      ]
     },
     "execution_count": 12,
     "metadata": {},
     "output_type": "execute_result"
    }
   ],
   "source": [
    "type(model_mod)\n"
   ]
  },
  {
   "cell_type": "code",
   "execution_count": 14,
   "id": "3d897e86",
   "metadata": {},
   "outputs": [],
   "source": [
    "model_mod = MLPMod(config.model.hidden_sizes, input_size=784, output_size=10)\n"
   ]
  },
  {
   "cell_type": "code",
   "execution_count": 15,
   "id": "75641150",
   "metadata": {},
   "outputs": [
    {
     "data": {
      "text/plain": [
       "<generator object Module.named_modules at 0x7fae8a8c8740>"
      ]
     },
     "execution_count": 15,
     "metadata": {},
     "output_type": "execute_result"
    }
   ],
   "source": [
    "model.named_modules()"
   ]
  },
  {
   "cell_type": "code",
   "execution_count": 16,
   "id": "0741f7cb",
   "metadata": {},
   "outputs": [
    {
     "data": {
      "text/plain": [
       "[MLP(\n",
       "   (layers): Sequential(\n",
       "     (0): Layer(\n",
       "       (linear): Linear(in_features=784, out_features=5, bias=True)\n",
       "       (activation): GELU(approximate='none')\n",
       "     )\n",
       "     (1): Layer(\n",
       "       (linear): Linear(in_features=5, out_features=10, bias=True)\n",
       "       (activation): GELU(approximate='none')\n",
       "     )\n",
       "     (2): Layer(\n",
       "       (linear): Linear(in_features=10, out_features=10, bias=True)\n",
       "       (activation): GELU(approximate='none')\n",
       "     )\n",
       "     (3): Layer(\n",
       "       (linear): Linear(in_features=10, out_features=10, bias=True)\n",
       "     )\n",
       "   )\n",
       " ),\n",
       " Sequential(\n",
       "   (0): Layer(\n",
       "     (linear): Linear(in_features=784, out_features=5, bias=True)\n",
       "     (activation): GELU(approximate='none')\n",
       "   )\n",
       "   (1): Layer(\n",
       "     (linear): Linear(in_features=5, out_features=10, bias=True)\n",
       "     (activation): GELU(approximate='none')\n",
       "   )\n",
       "   (2): Layer(\n",
       "     (linear): Linear(in_features=10, out_features=10, bias=True)\n",
       "     (activation): GELU(approximate='none')\n",
       "   )\n",
       "   (3): Layer(\n",
       "     (linear): Linear(in_features=10, out_features=10, bias=True)\n",
       "   )\n",
       " ),\n",
       " Layer(\n",
       "   (linear): Linear(in_features=784, out_features=5, bias=True)\n",
       "   (activation): GELU(approximate='none')\n",
       " ),\n",
       " Linear(in_features=784, out_features=5, bias=True),\n",
       " GELU(approximate='none'),\n",
       " Layer(\n",
       "   (linear): Linear(in_features=5, out_features=10, bias=True)\n",
       "   (activation): GELU(approximate='none')\n",
       " ),\n",
       " Linear(in_features=5, out_features=10, bias=True),\n",
       " GELU(approximate='none'),\n",
       " Layer(\n",
       "   (linear): Linear(in_features=10, out_features=10, bias=True)\n",
       "   (activation): GELU(approximate='none')\n",
       " ),\n",
       " Linear(in_features=10, out_features=10, bias=True),\n",
       " GELU(approximate='none'),\n",
       " Layer(\n",
       "   (linear): Linear(in_features=10, out_features=10, bias=True)\n",
       " ),\n",
       " Linear(in_features=10, out_features=10, bias=True)]"
      ]
     },
     "execution_count": 16,
     "metadata": {},
     "output_type": "execute_result"
    }
   ],
   "source": [
    "[i for i in model.modules()]\n"
   ]
  },
  {
   "cell_type": "code",
   "execution_count": 25,
   "id": "1f1c2fa6",
   "metadata": {},
   "outputs": [
    {
     "ename": "AttributeError",
     "evalue": "'MLP' object has no attribute 'keys'",
     "output_type": "error",
     "traceback": [
      "\u001b[0;31m---------------------------------------------------------------------------\u001b[0m",
      "\u001b[0;31mAttributeError\u001b[0m                            Traceback (most recent call last)",
      "Cell \u001b[0;32mIn[25], line 1\u001b[0m\n\u001b[0;32m----> 1\u001b[0m \u001b[43mmodel\u001b[49m\u001b[38;5;241;43m.\u001b[39;49m\u001b[43mkeys\u001b[49m()\n",
      "File \u001b[0;32m/mnt/ssd-apollo/lee/lee-env/lib/python3.10/site-packages/torch/nn/modules/module.py:1614\u001b[0m, in \u001b[0;36mModule.__getattr__\u001b[0;34m(self, name)\u001b[0m\n\u001b[1;32m   1612\u001b[0m     \u001b[38;5;28;01mif\u001b[39;00m name \u001b[38;5;129;01min\u001b[39;00m modules:\n\u001b[1;32m   1613\u001b[0m         \u001b[38;5;28;01mreturn\u001b[39;00m modules[name]\n\u001b[0;32m-> 1614\u001b[0m \u001b[38;5;28;01mraise\u001b[39;00m \u001b[38;5;167;01mAttributeError\u001b[39;00m(\u001b[38;5;124m\"\u001b[39m\u001b[38;5;124m'\u001b[39m\u001b[38;5;132;01m{}\u001b[39;00m\u001b[38;5;124m'\u001b[39m\u001b[38;5;124m object has no attribute \u001b[39m\u001b[38;5;124m'\u001b[39m\u001b[38;5;132;01m{}\u001b[39;00m\u001b[38;5;124m'\u001b[39m\u001b[38;5;124m\"\u001b[39m\u001b[38;5;241m.\u001b[39mformat(\n\u001b[1;32m   1615\u001b[0m     \u001b[38;5;28mtype\u001b[39m(\u001b[38;5;28mself\u001b[39m)\u001b[38;5;241m.\u001b[39m\u001b[38;5;18m__name__\u001b[39m, name))\n",
      "\u001b[0;31mAttributeError\u001b[0m: 'MLP' object has no attribute 'keys'"
     ]
    }
   ],
   "source": [
    "model.keys()"
   ]
  },
  {
   "cell_type": "code",
   "execution_count": null,
   "id": "6009819d",
   "metadata": {},
   "outputs": [],
   "source": []
  }
 ],
 "metadata": {
  "kernelspec": {
   "display_name": "lee-env",
   "language": "python",
   "name": "python3"
  },
  "language_info": {
   "codemirror_mode": {
    "name": "ipython",
    "version": 3
   },
   "file_extension": ".py",
   "mimetype": "text/x-python",
   "name": "python",
   "nbconvert_exporter": "python",
   "pygments_lexer": "ipython3",
   "version": "3.10.13"
  }
 },
 "nbformat": 4,
 "nbformat_minor": 5
}
