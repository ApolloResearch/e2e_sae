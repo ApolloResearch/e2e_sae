{
 "cells": [
  {
   "cell_type": "code",
   "execution_count": null,
   "id": "e6bd057a",
   "metadata": {},
   "outputs": [],
   "source": [
    "import argparse\n",
    "import itertools\n",
    "import os\n",
    "import pickle\n",
    "from collections.abc import Generator\n",
    "from dataclasses import dataclass, field\n",
    "from datetime import datetime\n",
    "from typing import Any, List, Optional, Tuple, Union\n",
    "from scipy.spatial.distance import pdist, squareform\n",
    "from fastcluster import linkage\n",
    "\n",
    "import numpy as np\n",
    "import numpy.typing as npt\n",
    "import torch\n",
    "import torch.multiprocessing as mp\n",
    "import torch.nn as nn\n",
    "import torch.optim as optim\n",
    "from matplotlib import pyplot as plt\n",
    "from scipy.stats import ortho_group\n",
    "from torchtyping import TensorType\n",
    "from tqdm import tqdm"
   ]
  },
  {
   "cell_type": "markdown",
   "id": "22f6b40b",
   "metadata": {},
   "source": [
    "## Loading Saved SAEs"
   ]
  },
  {
   "cell_type": "code",
   "execution_count": null,
   "id": "cdced1f4",
   "metadata": {},
   "outputs": [],
   "source": [
    "# load saes\n",
    "seed_string = f\"{cfg.seed}\" if cfg.seed >= 0 else \"\"\n",
    "print(f\"loading from toy_saes{seed_string}\")\n",
    "auto_encoders = [[None for l1_coef in cfg.lp_alphas] for p in cfg.ps()]\n",
    "for p_id, p in enumerate(cfg.ps()):\n",
    "    for lp_id, lp_alpha in enumerate(cfg.lp_alphas):\n",
    "        save_name = f\"sae_l{p}_{lp_alpha}\"\n",
    "        auto_encoder = torch.load(\n",
    "            f\"/root/sparsify/trained_models/toy_saes{seed_string}/{save_name}.pt\"\n",
    "        )\n",
    "        auto_encoders[p_id][lp_id] = auto_encoder\n",
    "\n",
    "# load ground truth features\n",
    "ground_truth_features = torch.load(\n",
    "    f\"/root/sparsify/trained_models/toy_saes{seed_string}/ground_truth_features.pt\"\n",
    ")\n",
    "data_generator = RandomDatasetGenerator(\n",
    "    activation_dim=cfg.activation_dim,\n",
    "    n_ground_truth_components=cfg.n_ground_truth_components,\n",
    "    batch_size=cfg.batch_size,\n",
    "    feature_num_nonzero=cfg.feature_num_nonzero,\n",
    "    feature_prob_decay=cfg.feature_prob_decay,\n",
    "    correlated=cfg.correlated_components,\n",
    "    device=device,\n",
    "    generated_so_far=cfg.seed,\n",
    "    feats=ground_truth_features,\n",
    ")"
   ]
  },
  {
   "cell_type": "markdown",
   "id": "f0949855",
   "metadata": {},
   "source": [
    "# Load computed matrices"
   ]
  },
  {
   "cell_type": "code",
   "execution_count": null,
   "id": "a023f612",
   "metadata": {},
   "outputs": [],
   "source": [
    "def load_mean(seeds, matrix_string):    \n",
    "    matrices = []\n",
    "    for seed in seeds:\n",
    "        pre = f\"metrics_{seed}\"\n",
    "        path = f\"{pre}/{matrix_string}_{seed}.pt\"\n",
    "        matrices.append(torch.load(path))\n",
    "    return sum(matrices)/len(matrices)\n",
    "\n",
    "# seeds = [cfg.seed,]\n",
    "seeds = [15,16,17,18]\n",
    "sim_conc_co_occur = load_mean(seeds, \"sim_conc_co_occur\")\n",
    "sim_conc_corr = load_mean(seeds, \"sim_conc_corr\")\n",
    "sim_conc_cosim = load_mean(seeds, \"sim_conc_cosim\")\n",
    "mmcs = load_mean(seeds, \"mmcs\")\n",
    "features_per_ground = load_mean(seeds, \"features_per_ground\")\n",
    "l2_ratio = load_mean(seeds, \"l2_ratio\")\n",
    "l0 = load_mean(seeds, \"l0\")\n",
    "final_reconstruction = load_mean(seeds, \"final_reconstruction\")\n",
    "final_lp = load_mean(seeds, \"final_lp\")\n",
    "\n",
    "if not os.path.exists(f\"/root/sparsify/notebooks/images_{cfg.seed}\"):\n",
    "    os.makedirs(f\"/root/sparsify/notebooks/images_{cfg.seed}\")\n"
   ]
  },
  {
   "cell_type": "code",
   "execution_count": null,
   "id": "98b3f896",
   "metadata": {},
   "outputs": [],
   "source": [
    "l0 = torch.cat([load_mean(seeds, \"l0\") for seeds in [[15,16,17,18],[21]]], dim=1)\n",
    "final_reconstruction = torch.cat([load_mean(seeds, \"final_reconstruction\") for seeds in [[15,16,17,18],[21]]], dim=1)"
   ]
  },
  {
   "cell_type": "code",
   "execution_count": null,
   "id": "d00d3b88",
   "metadata": {},
   "outputs": [],
   "source": [
    "import seaborn as sns\n",
    "# palette = sns.color_palette()\n",
    "# sns.color_palette()\n",
    "palette = sns.color_palette(\"magma_r\")\n",
    "display(palette)\n",
    "palette = [palette[i] for i in [0,1,3,5]]\n",
    "plt.style.use('default')"
   ]
  },
  {
   "cell_type": "code",
   "execution_count": null,
   "id": "5e58db93",
   "metadata": {},
   "outputs": [],
   "source": [
    "# Load all matrices for subplots\n",
    "pre = f\"metrics_15\"\n",
    "p_name = f\"1\"\n",
    "\n",
    "sorted_gf_cosim = torch.load(f\"{pre}/gfl{p_name}.pt\")\n",
    "sorted_ff_cosim = torch.load(f\"{pre}/ffl{p_name}.pt\")\n",
    "sorted_jaccard = torch.load(f\"{pre}/gfl{p_name}_jaccard.pt\")\n",
    "sorted_auto_jaccard = torch.load(f\"{pre}/ffl{p_name}_jaccard.pt\")\n",
    "\n",
    "sorted_gpt2_cosim = torch.load(f\"/root/sparsify/gpt2_sorted_cosim_matrix_l{p_name}.pt\").cpu()\n",
    "sorted_gpt2_jaccard = torch.load(f\"/root/sparsify/gpt2_sorted_jaccard_l{p_name}.pt\").cpu()"
   ]
  },
  {
   "cell_type": "code",
   "execution_count": null,
   "id": "3a406845",
   "metadata": {},
   "outputs": [],
   "source": [
    "import matplotlib.pyplot as plt\n",
    "\n",
    "matrices = [sorted_gf_cosim, sorted_ff_cosim, sorted_gpt2_cosim[:100,:100], sorted_jaccard, sorted_auto_jaccard, sorted_gpt2_jaccard[:100,:100]] \n",
    "\n",
    "# Create a 2x3 subplot\n",
    "fig, axs = plt.subplots(2, 3, figsize=(10, 10), dpi=300)\n",
    "\n",
    "# Row and Column Titles/Labels\n",
    "row_titles = [\"Cosine Similarity\", \"Jaccard Index\"]\n",
    "col_titles = [\"Toy Data Ground Truth vs SAE Features\", \"Toy Data SAE Features\", \"GPT2 SAE Features\"]\n",
    "y_axis_labels = [\n",
    "    \"Ground Truth\",\n",
    "    \"SAE\",\n",
    "    \"SAE\",\n",
    "    \"Ground Truth\",\n",
    "    \"SAE\",\n",
    "    \"SAE\",\n",
    "]\n",
    "\n",
    "# Set titles for the columns\n",
    "for ax, col_title in zip(axs[0], col_titles):\n",
    "    ax.set_title(col_title)\n",
    "\n",
    "# # Set titles for the rows\n",
    "# for ax, row_title in zip(axs[:,0], row_titles):\n",
    "#     ax.set_ylabel(row_title, rotation=90, size='large', labelpad=20)\n",
    "\n",
    "# Loop through all plots to plot the matrices\n",
    "for idx, ax in enumerate(axs.flat):\n",
    "    N, M = matrices[idx].shape\n",
    "    to_square_aspect = M / N\n",
    "    im = ax.imshow(matrices[idx], cmap=\"PiYG\", vmin=-1, vmax=1, aspect=to_square_aspect)\n",
    "    ax.set_xlabel(\"SAE\")\n",
    "    ax.set_ylabel(y_axis_labels[idx])\n",
    "    ax.set_xticks([0, M/3, 2*M/3, M])\n",
    "    ax.set_xticklabels([f\"{int(0)}\", f\"{int(M/3)}\", f\"{int(2*M/3)}\", f\"{int(M)}\"])\n",
    "    ax.set_yticks([0, N/3, 2*N/3, N])\n",
    "    ax.set_yticklabels([f\"{int(0)}\", f\"{int(N/3)}\", f\"{int(2*N/3)}\", f\"{int(N)}\"])\n",
    "    \n",
    "for i, label in enumerate(row_titles):\n",
    "    fig.text(0.05, 1/2 - (2*i-1)*0.21, label, va='center', ha='center', rotation='vertical', size='large')\n",
    "\n",
    "# Create a colorbar with a bit of a hack, since all plots share the same color scale\n",
    "fig.subplots_adjust(right=0.8, wspace=0.5, hspace=0.5)\n",
    "cbar_ax = fig.add_axes([1, 0.15, 0.03, 0.7])  # Adjust these values as needed for your layout\n",
    "cbar = fig.colorbar(im, cax=cbar_ax)\n",
    "cbar.ax.set_ylabel('Cosine Similarity / Jaccard Index', rotation=270, labelpad=15)\n",
    "\n",
    "plt.tight_layout()\n",
    "# plt.show()\n",
    "plt.savefig(f'2by3_l{p_name}.png', bbox_inches='tight')"
   ]
  },
  {
   "cell_type": "code",
   "execution_count": null,
   "id": "a0d66fea",
   "metadata": {},
   "outputs": [],
   "source": [
    "plt.imshow(sorted_auto_jaccard, cmap=\"PiYG\", vmin=-1, vmax=1)  # cosim_matrix.detach().cpu()\n",
    "cbar = plt.colorbar()\n",
    "cbar.ax.set_ylabel('Cosine Similarity', rotation=270, labelpad=15)\n",
    "plt.xlabel(\"Sorted SAE features\")\n",
    "plt.ylabel(\"Sorted SAE features\")\n",
    "plt.title(f\"SAE Features Jaccard Index (L{p_name})\")"
   ]
  },
  {
   "cell_type": "code",
   "execution_count": null,
   "id": "d4e3b6b7",
   "metadata": {},
   "outputs": [],
   "source": [
    "plt.imshow(sorted_auto_jaccard, cmap=\"PiYG\", vmin=-1, vmax=1)  # cosim_matrix.detach().cpu()\n",
    "cbar = plt.colorbar()\n",
    "cbar.ax.set_ylabel('Cosine Similarity', rotation=270)\n",
    "plt.xlabel(\"Sorted SAE features\")\n",
    "plt.ylabel(\"Sorted SAE features\")\n",
    "plt.title(f\"SAE Features Jaccard Index (L{p_name})\")\n",
    "plt.savefig(f\"images_{cfg.seed}/ffl{p_name}_jaccard.png\")\n",
    "\n",
    "\n",
    "pre = f\"metrics_{cfg.seed}\"\n",
    "if not os.path.exists(f\"/root/sparsify/notebooks/{pre}\"):\n",
    "    os.makedirs(f\"/root/sparsify/notebooks/{pre}\")\n",
    "torch.save(sorted_auto_jaccard, f\"{pre}/ffl{p_name}_jaccard.pt\")"
   ]
  }
 ],
 "metadata": {
  "kernelspec": {
   "display_name": "lee-env",
   "language": "python",
   "name": "python3"
  },
  "language_info": {
   "codemirror_mode": {
    "name": "ipython",
    "version": 3
   },
   "file_extension": ".py",
   "mimetype": "text/x-python",
   "name": "python",
   "nbconvert_exporter": "python",
   "pygments_lexer": "ipython3",
   "version": "3.11.8"
  }
 },
 "nbformat": 4,
 "nbformat_minor": 5
}
